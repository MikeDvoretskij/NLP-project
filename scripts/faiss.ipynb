{
 "cells": [
  {
   "cell_type": "code",
   "execution_count": 12,
   "metadata": {},
   "outputs": [],
   "source": [
    "import faiss\n",
    "import pandas as pd\n",
    "from sentence_transformers import SentenceTransformer\n",
    "import numpy as np\n",
    "from tqdm import tqdm\n"
   ]
  },
  {
   "cell_type": "code",
   "execution_count": 13,
   "metadata": {},
   "outputs": [],
   "source": [
    "data = pd.read_parquet(\"data/full_qanun_text.parquet\")\n",
    "transformer = SentenceTransformer(\"sentence-transformers/msmarco-distilbert-base-tas-b\").to(\"cuda\")"
   ]
  },
  {
   "cell_type": "code",
   "execution_count": 14,
   "metadata": {},
   "outputs": [
    {
     "data": {
      "text/plain": [
       "(1501973, 1)"
      ]
     },
     "execution_count": 14,
     "metadata": {},
     "output_type": "execute_result"
    }
   ],
   "source": [
    "data.shape"
   ]
  },
  {
   "cell_type": "code",
   "execution_count": 4,
   "metadata": {},
   "outputs": [],
   "source": [
    "batch_size = 10_000\n",
    "start = 0\n",
    "indexes_list = []"
   ]
  },
  {
   "cell_type": "code",
   "execution_count": 5,
   "metadata": {},
   "outputs": [
    {
     "name": "stderr",
     "output_type": "stream",
     "text": [
      "  0%|          | 0/2 [00:00<?, ?it/s]"
     ]
    },
    {
     "name": "stdout",
     "output_type": "stream",
     "text": [
      "list index out of range\n"
     ]
    },
    {
     "name": "stderr",
     "output_type": "stream",
     "text": [
      "100%|██████████| 2/2 [00:14<00:00,  7.30s/it]\n"
     ]
    }
   ],
   "source": [
    "for i in tqdm(range(0, 20000, batch_size)):    \n",
    "    if i <= len(data) - batch_size:\n",
    "        try:\n",
    "            dt = list(data.iloc[start:i, :][\"text\"])\n",
    "            dt = list(transformer.encode(dt))\n",
    "            indexes_list += dt\n",
    "            start += batch_size\n",
    "        except IndexError as ex:\n",
    "            print(ex)\n",
    "            continue\n",
    "    else:\n",
    "        dt = list(data.iloc[i::, :][\"text\"])\n",
    "        dt = list(transformer.encode(dt))\n",
    "        indexes_list += dt\n",
    "        start += batch_size"
   ]
  },
  {
   "cell_type": "code",
   "execution_count": 5,
   "metadata": {},
   "outputs": [
    {
     "data": {
      "text/plain": [
       "768"
      ]
     },
     "execution_count": 5,
     "metadata": {},
     "output_type": "execute_result"
    }
   ],
   "source": [
    "len(indexes_list[0])"
   ]
  },
  {
   "cell_type": "code",
   "execution_count": 6,
   "metadata": {},
   "outputs": [],
   "source": [
    "indexes_list = np.array(indexes_list)"
   ]
  },
  {
   "cell_type": "code",
   "execution_count": 9,
   "metadata": {},
   "outputs": [
    {
     "data": {
      "text/plain": [
       "1491973"
      ]
     },
     "execution_count": 9,
     "metadata": {},
     "output_type": "execute_result"
    }
   ],
   "source": [
    "len(indexes_list)"
   ]
  },
  {
   "cell_type": "code",
   "execution_count": 8,
   "metadata": {},
   "outputs": [],
   "source": [
    "index = faiss.index_factory(768, 'IVF15,Flat', faiss.METRIC_INNER_PRODUCT)\n",
    "faiss.normalize_L2(indexes_list)\n",
    "index.train(indexes_list)\n",
    "index.add(indexes_list)\n",
    "faiss.write_index(index, \"trained_index.index\")"
   ]
  },
  {
   "cell_type": "code",
   "execution_count": 9,
   "metadata": {},
   "outputs": [],
   "source": [
    "index.nprobe = 5"
   ]
  },
  {
   "cell_type": "code",
   "execution_count": 10,
   "metadata": {},
   "outputs": [],
   "source": [
    "def search(request:str):\n",
    "    vector = np.array([transformer.encode(request)])\n",
    "    faiss.normalize_L2(vector)\n",
    "    D, I = index.search(vector, 15)\n",
    "    return D, I"
   ]
  },
  {
   "cell_type": "code",
   "execution_count": 11,
   "metadata": {},
   "outputs": [
    {
     "data": {
      "text/plain": [
       "(array([[0.7321978 , 0.7301693 , 0.7290461 , 0.7290461 , 0.7288023 ,\n",
       "         0.7275504 , 0.7257741 , 0.7256943 , 0.7253185 , 0.7252851 ,\n",
       "         0.72511405, 0.725114  , 0.72483623, 0.72442496, 0.7242232 ]],\n",
       "       dtype=float32),\n",
       " array([[3521, 3482, 3147, 3067, 3483, 3507, 3340, 2493, 3608, 2746, 3534,\n",
       "         3503,  735, 3538, 9994]], dtype=int64))"
      ]
     },
     "execution_count": 11,
     "metadata": {},
     "output_type": "execute_result"
    }
   ],
   "source": [
    "search(\"Hello world\")"
   ]
  },
  {
   "cell_type": "code",
   "execution_count": null,
   "metadata": {},
   "outputs": [],
   "source": []
  }
 ],
 "metadata": {
  "kernelspec": {
   "display_name": "NLP",
   "language": "python",
   "name": "python3"
  },
  "language_info": {
   "codemirror_mode": {
    "name": "ipython",
    "version": 3
   },
   "file_extension": ".py",
   "mimetype": "text/x-python",
   "name": "python",
   "nbconvert_exporter": "python",
   "pygments_lexer": "ipython3",
   "version": "3.11.8"
  }
 },
 "nbformat": 4,
 "nbformat_minor": 2
}
