{
 "cells": [
  {
   "cell_type": "code",
   "execution_count": 1,
   "metadata": {},
   "outputs": [],
   "source": [
    "import pandas as pd"
   ]
  },
  {
   "cell_type": "code",
   "execution_count": 3,
   "metadata": {},
   "outputs": [],
   "source": [
    "data = pd.read_csv(\"../data/decrees_of_the_president_of_the_republic_of_azerbaijan.csv\")"
   ]
  },
  {
   "cell_type": "code",
   "execution_count": 4,
   "metadata": {},
   "outputs": [
    {
     "data": {
      "text/html": [
       "<div>\n",
       "<style scoped>\n",
       "    .dataframe tbody tr th:only-of-type {\n",
       "        vertical-align: middle;\n",
       "    }\n",
       "\n",
       "    .dataframe tbody tr th {\n",
       "        vertical-align: top;\n",
       "    }\n",
       "\n",
       "    .dataframe thead th {\n",
       "        text-align: right;\n",
       "    }\n",
       "</style>\n",
       "<table border=\"1\" class=\"dataframe\">\n",
       "  <thead>\n",
       "    <tr style=\"text-align: right;\">\n",
       "      <th></th>\n",
       "      <th>url</th>\n",
       "      <th>title</th>\n",
       "      <th>typeName</th>\n",
       "      <th>text</th>\n",
       "    </tr>\n",
       "  </thead>\n",
       "  <tbody>\n",
       "    <tr>\n",
       "      <th>0</th>\n",
       "      <td>https://e-qanun.az/framework/57435</td>\n",
       "      <td>“Respublika Qan Bankı” publik hüquqi şəxsin ya...</td>\n",
       "      <td>AZƏRBAYCAN RESPUBLİKASI PREZİDENTİNİN FƏRMANLARI</td>\n",
       "      <td>“Respublika Qan Bankı” publik hüquqi şəxsin\\ny...</td>\n",
       "    </tr>\n",
       "    <tr>\n",
       "      <th>1</th>\n",
       "      <td>https://e-qanun.az/framework/57439</td>\n",
       "      <td>Azərbaycan Respublikası Prezidentinin 2018-ci ...</td>\n",
       "      <td>AZƏRBAYCAN RESPUBLİKASI PREZİDENTİNİN FƏRMANLARI</td>\n",
       "      <td>Azərbaycan Respublikası Prezidentinin 2018-ci ...</td>\n",
       "    </tr>\n",
       "    <tr>\n",
       "      <th>2</th>\n",
       "      <td>https://e-qanun.az/framework/57440</td>\n",
       "      <td>“Dövlət qulluğu haqqında” Azərbaycan Respublik...</td>\n",
       "      <td>AZƏRBAYCAN RESPUBLİKASI PREZİDENTİNİN FƏRMANLARI</td>\n",
       "      <td>“Dövlət\\nqulluğu haqqında” Azərbaycan Respubli...</td>\n",
       "    </tr>\n",
       "    <tr>\n",
       "      <th>3</th>\n",
       "      <td>https://e-qanun.az/framework/57443</td>\n",
       "      <td>“Şəhid adının əbədiləşdirilməsi və şəhid ailəl...</td>\n",
       "      <td>AZƏRBAYCAN RESPUBLİKASI PREZİDENTİNİN FƏRMANLARI</td>\n",
       "      <td>“Şəhid\\nadının əbədiləşdirilməsi və şəhid ailə...</td>\n",
       "    </tr>\n",
       "    <tr>\n",
       "      <th>4</th>\n",
       "      <td>https://e-qanun.az/framework/57446</td>\n",
       "      <td>“Mühasibat uçotu haqqında” Azərbaycan Respubli...</td>\n",
       "      <td>AZƏRBAYCAN RESPUBLİKASI PREZİDENTİNİN FƏRMANLARI</td>\n",
       "      <td>“Mühasibat\\nuçotu haqqında” Azərbaycan Respubl...</td>\n",
       "    </tr>\n",
       "    <tr>\n",
       "      <th>...</th>\n",
       "      <td>...</td>\n",
       "      <td>...</td>\n",
       "      <td>...</td>\n",
       "      <td>...</td>\n",
       "    </tr>\n",
       "    <tr>\n",
       "      <th>8277</th>\n",
       "      <td>https://e-qanun.az/framework/6355</td>\n",
       "      <td>Ə. C. Qasımov yoldaşa \"Azərbaycan SSR əməkdar ...</td>\n",
       "      <td>AZƏRBAYCAN RESPUBLİKASI PREZİDENTİNİN FƏRMANLARI</td>\n",
       "      <td>\\n\\n\\n\\n\\n\\nT\\n\\n\\n\\n\\nƏ. C. Qasımov yoldaşa “...</td>\n",
       "    </tr>\n",
       "    <tr>\n",
       "      <th>8278</th>\n",
       "      <td>https://e-qanun.az/framework/6356</td>\n",
       "      <td>Ə. R. Topçiyev yoldaşın Azərbaycan SSR-in Fəxr...</td>\n",
       "      <td>AZƏRBAYCAN RESPUBLİKASI PREZİDENTİNİN FƏRMANLARI</td>\n",
       "      <td>\\n\\n\\n\\n\\n\\nƏ\\n\\n\\n\\n\\nƏ. R. Topçiyev\\nyoldaşı...</td>\n",
       "    </tr>\n",
       "    <tr>\n",
       "      <th>8279</th>\n",
       "      <td>https://e-qanun.az/framework/6353</td>\n",
       "      <td>M. M. Aşurov yoldaşın Azərbaycan SSR-in Fəxri ...</td>\n",
       "      <td>AZƏRBAYCAN RESPUBLİKASI PREZİDENTİNİN FƏRMANLARI</td>\n",
       "      <td>\\n\\n\\n\\n\\n\\nM\\n\\n\\n\\n\\nM.M.Aşurov\\nyoldaşın Az...</td>\n",
       "    </tr>\n",
       "    <tr>\n",
       "      <th>8280</th>\n",
       "      <td>https://e-qanun.az/framework/6342</td>\n",
       "      <td>Azərbaycan SSR-in hərbi komissarlıqları tərəfi...</td>\n",
       "      <td>AZƏRBAYCAN RESPUBLİKASI PREZİDENTİNİN FƏRMANLARI</td>\n",
       "      <td>Azərbaycan SSR-in hərbi\\nkomissarlıqları tərəf...</td>\n",
       "    </tr>\n",
       "    <tr>\n",
       "      <th>8281</th>\n",
       "      <td>https://e-qanun.az/framework/6351</td>\n",
       "      <td>A. S. Manafova yoldaşın Azərbaycan SSR-in Fəxr...</td>\n",
       "      <td>AZƏRBAYCAN RESPUBLİKASI PREZİDENTİNİN FƏRMANLARI</td>\n",
       "      <td>\\n\\n\\n\\n\\n\\nA\\n\\n\\n\\n\\nA.S.Manafova yoldaşın A...</td>\n",
       "    </tr>\n",
       "  </tbody>\n",
       "</table>\n",
       "<p>8282 rows × 4 columns</p>\n",
       "</div>"
      ],
      "text/plain": [
       "                                     url  \\\n",
       "0     https://e-qanun.az/framework/57435   \n",
       "1     https://e-qanun.az/framework/57439   \n",
       "2     https://e-qanun.az/framework/57440   \n",
       "3     https://e-qanun.az/framework/57443   \n",
       "4     https://e-qanun.az/framework/57446   \n",
       "...                                  ...   \n",
       "8277   https://e-qanun.az/framework/6355   \n",
       "8278   https://e-qanun.az/framework/6356   \n",
       "8279   https://e-qanun.az/framework/6353   \n",
       "8280   https://e-qanun.az/framework/6342   \n",
       "8281   https://e-qanun.az/framework/6351   \n",
       "\n",
       "                                                  title  \\\n",
       "0     “Respublika Qan Bankı” publik hüquqi şəxsin ya...   \n",
       "1     Azərbaycan Respublikası Prezidentinin 2018-ci ...   \n",
       "2     “Dövlət qulluğu haqqında” Azərbaycan Respublik...   \n",
       "3     “Şəhid adının əbədiləşdirilməsi və şəhid ailəl...   \n",
       "4     “Mühasibat uçotu haqqında” Azərbaycan Respubli...   \n",
       "...                                                 ...   \n",
       "8277  Ə. C. Qasımov yoldaşa \"Azərbaycan SSR əməkdar ...   \n",
       "8278  Ə. R. Topçiyev yoldaşın Azərbaycan SSR-in Fəxr...   \n",
       "8279  M. M. Aşurov yoldaşın Azərbaycan SSR-in Fəxri ...   \n",
       "8280  Azərbaycan SSR-in hərbi komissarlıqları tərəfi...   \n",
       "8281  A. S. Manafova yoldaşın Azərbaycan SSR-in Fəxr...   \n",
       "\n",
       "                                              typeName  \\\n",
       "0     AZƏRBAYCAN RESPUBLİKASI PREZİDENTİNİN FƏRMANLARI   \n",
       "1     AZƏRBAYCAN RESPUBLİKASI PREZİDENTİNİN FƏRMANLARI   \n",
       "2     AZƏRBAYCAN RESPUBLİKASI PREZİDENTİNİN FƏRMANLARI   \n",
       "3     AZƏRBAYCAN RESPUBLİKASI PREZİDENTİNİN FƏRMANLARI   \n",
       "4     AZƏRBAYCAN RESPUBLİKASI PREZİDENTİNİN FƏRMANLARI   \n",
       "...                                                ...   \n",
       "8277  AZƏRBAYCAN RESPUBLİKASI PREZİDENTİNİN FƏRMANLARI   \n",
       "8278  AZƏRBAYCAN RESPUBLİKASI PREZİDENTİNİN FƏRMANLARI   \n",
       "8279  AZƏRBAYCAN RESPUBLİKASI PREZİDENTİNİN FƏRMANLARI   \n",
       "8280  AZƏRBAYCAN RESPUBLİKASI PREZİDENTİNİN FƏRMANLARI   \n",
       "8281  AZƏRBAYCAN RESPUBLİKASI PREZİDENTİNİN FƏRMANLARI   \n",
       "\n",
       "                                                   text  \n",
       "0     “Respublika Qan Bankı” publik hüquqi şəxsin\\ny...  \n",
       "1     Azərbaycan Respublikası Prezidentinin 2018-ci ...  \n",
       "2     “Dövlət\\nqulluğu haqqında” Azərbaycan Respubli...  \n",
       "3     “Şəhid\\nadının əbədiləşdirilməsi və şəhid ailə...  \n",
       "4     “Mühasibat\\nuçotu haqqında” Azərbaycan Respubl...  \n",
       "...                                                 ...  \n",
       "8277  \\n\\n\\n\\n\\n\\nT\\n\\n\\n\\n\\nƏ. C. Qasımov yoldaşa “...  \n",
       "8278  \\n\\n\\n\\n\\n\\nƏ\\n\\n\\n\\n\\nƏ. R. Topçiyev\\nyoldaşı...  \n",
       "8279  \\n\\n\\n\\n\\n\\nM\\n\\n\\n\\n\\nM.M.Aşurov\\nyoldaşın Az...  \n",
       "8280  Azərbaycan SSR-in hərbi\\nkomissarlıqları tərəf...  \n",
       "8281  \\n\\n\\n\\n\\n\\nA\\n\\n\\n\\n\\nA.S.Manafova yoldaşın A...  \n",
       "\n",
       "[8282 rows x 4 columns]"
      ]
     },
     "execution_count": 4,
     "metadata": {},
     "output_type": "execute_result"
    }
   ],
   "source": [
    "data.drop_duplicates(\"url\")"
   ]
  },
  {
   "cell_type": "code",
   "execution_count": null,
   "metadata": {},
   "outputs": [],
   "source": []
  },
  {
   "cell_type": "code",
   "execution_count": 11,
   "metadata": {},
   "outputs": [],
   "source": [
    "df_with_none = data[data['text'].isna()]\n",
    "df_without_none = data[~data['text'].isna()]"
   ]
  },
  {
   "cell_type": "code",
   "execution_count": 12,
   "metadata": {},
   "outputs": [],
   "source": [
    "df_with_none = df_with_none.drop_duplicates(subset='url')\n",
    "data = pd.concat([df_with_none, df_without_none]).reset_index(drop=True)\n"
   ]
  },
  {
   "cell_type": "code",
   "execution_count": 14,
   "metadata": {},
   "outputs": [
    {
     "name": "stdout",
     "output_type": "stream",
     "text": [
      "<class 'pandas.core.frame.DataFrame'>\n",
      "RangeIndex: 13024 entries, 0 to 13023\n",
      "Data columns (total 4 columns):\n",
      " #   Column    Non-Null Count  Dtype \n",
      "---  ------    --------------  ----- \n",
      " 0   url       13024 non-null  object\n",
      " 1   title     13024 non-null  object\n",
      " 2   typeName  13024 non-null  object\n",
      " 3   text      8271 non-null   object\n",
      "dtypes: object(4)\n",
      "memory usage: 407.1+ KB\n"
     ]
    }
   ],
   "source": [
    "data.info()"
   ]
  }
 ],
 "metadata": {
  "kernelspec": {
   "display_name": "NLP",
   "language": "python",
   "name": "python3"
  },
  "language_info": {
   "codemirror_mode": {
    "name": "ipython",
    "version": 3
   },
   "file_extension": ".py",
   "mimetype": "text/x-python",
   "name": "python",
   "nbconvert_exporter": "python",
   "pygments_lexer": "ipython3",
   "version": "3.11.8"
  }
 },
 "nbformat": 4,
 "nbformat_minor": 2
}
